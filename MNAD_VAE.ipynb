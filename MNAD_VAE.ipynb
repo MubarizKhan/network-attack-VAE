{
  "cells": [
    {
      "cell_type": "code",
      "execution_count": null,
      "metadata": {
        "colab": {
          "base_uri": "https://localhost:8080/"
        },
        "id": "E9N39D_XSWOv",
        "outputId": "648cd876-d197-4984-cefb-8b59d8695af1"
      },
      "outputs": [
        {
          "output_type": "stream",
          "name": "stdout",
          "text": [
            "Mounted at /content/drive\n"
          ]
        }
      ],
      "source": [
        "from google.colab import drive\n",
        "drive.mount('/content/drive')"
      ]
    },
    {
      "cell_type": "code",
      "execution_count": null,
      "metadata": {
        "id": "MPeibxLsRoxP"
      },
      "outputs": [],
      "source": [
        "import numpy as np\n",
        "from tensorflow import keras\n",
        "from tensorflow.keras import layers\n",
        "import pandas as pd\n",
        "import tensorflow as tf\n",
        "from tensorflow.keras import initializers\n"
      ]
    },
    {
      "cell_type": "code",
      "execution_count": null,
      "metadata": {
        "id": "RklYsHM7Rouk"
      },
      "outputs": [],
      "source": [
        "df = pd.read_hdf('/content/drive/MyDrive/MNAD-FYP/MachineLearningCVE/Dataset-Analysis/800k-Dos-DDos-PS-Benign.h5')\n",
        "del df['Unnamed: 0']\n",
        "df.info()"
      ]
    },
    {
      "cell_type": "code",
      "execution_count": null,
      "metadata": {
        "id": "NYWs33EVczto"
      },
      "outputs": [],
      "source": [
        "import numpy as np\n",
        "df.replace([np.inf, -np.inf], np.nan, inplace=True)\n",
        "# Dropping all the rows with nan values\n",
        "df.dropna(inplace=True)\n",
        "\n",
        "from sklearn.preprocessing import LabelEncoder\n",
        "\n",
        "target = df[' Label']\n",
        "# le = LabelEncoder()\n",
        "# target = le.fit_transform(target)\n",
        "\n",
        "# X = X.apply(lambda col: (col.astype('float16')))\n",
        "X=df.iloc[:,:-1]\n",
        "X.info()\n",
        "X.head(15)"
      ]
    },
    {
      "cell_type": "code",
      "execution_count": null,
      "metadata": {
        "id": "M3syxXp8afoN"
      },
      "outputs": [],
      "source": [
        "# x_train, x_test, y_train, y_test = train_test_split(X, target, test_size = 0.25, random_state = 42)\n",
        "# print(x_train.shape,x_test.shape,len(y_train),len(y_test))"
      ]
    },
    {
      "cell_type": "code",
      "execution_count": null,
      "metadata": {
        "id": "GVgJ5rc-aKTf"
      },
      "outputs": [],
      "source": [
        "# df[' Label']\n",
        "# from tensorflow.keras.utils import to_categorical # Change the labels from categorical to one-hot encoding\n",
        "# train_Y_one_hot = to_categorical(y_train, 4) \n",
        "# test_Y_one_hot = to_categorical(y_test, 4)\n",
        "# (train_Y_one_hot,test_Y_one_hot) "
      ]
    },
    {
      "cell_type": "code",
      "execution_count": null,
      "metadata": {
        "id": "vOCC5D_sXdKO"
      },
      "outputs": [],
      "source": []
    },
    {
      "cell_type": "code",
      "execution_count": null,
      "metadata": {
        "colab": {
          "base_uri": "https://localhost:8080/"
        },
        "id": "dd-ceD21W5xk",
        "outputId": "7ee68a88-238f-48ea-f73c-7a8800cdf0ea"
      },
      "outputs": [
        {
          "output_type": "stream",
          "name": "stdout",
          "text": [
            "<class 'pandas.core.series.Series'>\n"
          ]
        }
      ],
      "source": [
        "print(type(target))"
      ]
    },
    {
      "cell_type": "code",
      "execution_count": null,
      "metadata": {
        "id": "8EAKdFP8XKw6"
      },
      "outputs": [],
      "source": [
        "\n",
        "class Sampling(layers.Layer):\n",
        "    \"\"\"Uses (z_mean, z_log_var) to sample z, the vector encoding a digit.\"\"\"\n",
        "\n",
        "\n",
        "    def call(self, inputs):\n",
        "        # print('callllllllllllllllllllllll')\n",
        "        z_mean, z_log_var = inputs\n",
        "        batch = tf.shape(z_mean)[0]\n",
        "        print(batch)\n",
        "        dim = tf.shape(z_mean)[1]\n",
        "        epsilon = tf.keras.backend.random_normal(shape=(batch, dim))\n",
        "        return z_mean + tf.exp(0.5 * z_log_var) * epsilon\n"
      ]
    },
    {
      "cell_type": "code",
      "source": [],
      "metadata": {
        "id": "DiBIYDXgS4Co"
      },
      "execution_count": null,
      "outputs": []
    },
    {
      "cell_type": "code",
      "source": [
        "class encoder(keras.Model):\n",
        "  def __init__(self):\n",
        "    super(encoder, self).__init__()\n",
        "    self.encoder_inputs = keras.Input(shape=(input_shape))\n",
        "    self.encoder_layer1 = layers.Dense(28, activation='relu')\n",
        "    self.encoder_layer2 = layers.Dense(14, activation='relu')\n",
        "    self.encoder_layer3 = layers.Dense(7, activation='relu' )\n",
        "    self.encoder_layer4 = layers.Dense(4, activation='relu')\n",
        "    self.z_mean = layers.Dense(latent_dim, name=\"z_mean\")\n",
        "    self.z_log_var = layers.Dense(latent_dim, kernel_initializer=initializers.RandomNormal(stddev=0.01), bias_initializer=initializers.Zeros(), name=\"z_log_var\")\n",
        "    self.z = Sampling()([z_mean, z_log_var])\n",
        "\n",
        "  def call(self,x):\n",
        "    # self.encoder_inputs = keras.Input(shape=(input_shape))\n",
        "    x = self.encoder_inputs(x)\n",
        "    x = self.encoder_layer1(x) \n",
        "    x = self.encoder_layer2(x)\n",
        "    x = self.encoder_layer3(x)\n",
        "    z = self.z_mean(x)\n",
        "    z_log = self.z_log_var(x)\n",
        "    return Sampling()([z, z_log])\n",
        "\n",
        "\n",
        "class decoder(keras.Model):\n",
        "  def __init__(self):\n",
        "    self.latent_inputs = keras.Input(shape=(latent_dim,))\n",
        "    # print(latent_inputs)\n",
        "    self.decoderlayer1 = layers.Dense(4, activation=\"relu\", name='k')(latent_inputs)\n",
        "    self.decoderlayer2 = layers.Dense(7, activation='relu' , name = 'dec_layer1')(x)\n",
        "    self.decoderlayer3 = layers.Dense(14, activation='relu', name = 'dec_layer2')(x)\n",
        "    self.decoderlayer4 = layers.Dense(28, activation='relu', name = 'dec_layer3')(x)   \n",
        "    self.decoderlayer5 = layers.Dense(55)(x)\n",
        "    self.decoder = keras.Model(self.latent_inputs, self.decoder_outputs, name=\"decoder\")\n",
        "  return decoder\n",
        "\n",
        "  decoder = decoder(latent_dim)\n",
        "  def call(latent_dim):\n",
        "    latent_inputs = keras.Input(shape=(latent_dim,))\n",
        "    print(latent_inputs)\n",
        "    x = layers.Dense(4, activation=\"relu\", name='k')(latent_inputs)\n",
        "    x = layers.Dense(7, activation='relu' , name = 'dec_layer1')(x)\n",
        "    x = layers.Dense(14, activation='relu', name = 'dec_layer2')(x)\n",
        "    x = layers.Dense(28, activation='relu', name = 'dec_layer3')(x)\n",
        "    decoder_outputs = layers.Dense(55)(x)\n",
        "\n",
        "    decoder = keras.Model(latent_inputs, decoder_outputs, name=\"decoder\")\n",
        "    return decoder\n",
        "decoder = decoder(latent_dim)"
      ],
      "metadata": {
        "id": "ORCLNEouQZdE"
      },
      "execution_count": null,
      "outputs": []
    },
    {
      "cell_type": "code",
      "source": [
        "#  encoder_inputs = keras.Input(shape=(input_shape))\n",
        "#   x = layers.Dense(28, activation='relu')(encoder_inputs)\n",
        "#   x = layers.Dense(14, activation='relu')(x)\n",
        "#   x = layers.Dense(7, activation='relu' )(x)\n",
        "#   x = layers.Dense(4, activation='relu')(x)\n",
        "#   # x = layers.Conv2D(32, 3, activation=\"relu\", strides=2, padding=\"same\")(encoder_inputs)\n",
        "#   # x = layers.Conv2D(64, 3, activation=\"relu\", strides=2, padding=\"same\")(x)\n",
        "#   # x = layers.Flatten()(x)\n",
        "#   # x = layers.Dense(16, activation=\"relu\")(x)\n",
        "#   # flatten = layers.Flatten()(x)\n",
        "#   z_mean = layers.Dense(latent_dim, name=\"z_mean\")(x)\n",
        "#   z_log_var = layers.Dense(latent_dim, kernel_initializer=initializers.RandomNormal(stddev=0.01), bias_initializer=initializers.Zeros(), name=\"z_log_var\")(x)\n",
        "#   z = Sampling()([z_mean, z_log_var])\n",
        "\n",
        "\n",
        "#  latent_inputs = keras.Input(shape=(latent_dim,))\n",
        "#   print(latent_inputs)\n",
        "#   x = layers.Dense(4, activation=\"relu\", name='k')(latent_inputs)\n",
        "#   # x = layers.Reshape((7, 7, 64))(x)\n",
        "#   x = layers.Dense(7, activation='relu' , name = 'dec_layer1')(x)\n",
        "#   x = layers.Dense(14, activation='relu', name = 'dec_layer2')(x)\n",
        "#   x = layers.Dense(28, activation='relu', name = 'dec_layer3')(x)\n",
        "#   decoder_outputs = layers.Dense(55)(x)\n",
        "\n",
        "#   decoder = keras.Model(latent_inputs, decoder_outputs, name=\"decode "
      ],
      "metadata": {
        "id": "StI9bkyMm7TH"
      },
      "execution_count": null,
      "outputs": []
    },
    {
      "cell_type": "code",
      "source": [
        "# latent_dim = 2\n",
        "\n",
        "# def encoder(input_shape):\n",
        "#     encoder_inputs = keras.Input(shape=(input_shape))\n",
        "#     encoder_layer1 = layers.Dense(28, activation='relu')\n",
        "#     encoder_layer2 = layers.Dense(14, activation='relu')\n",
        "#     encoder_layer3 = layers.Dense(7, activation='relu' )\n",
        "#     encoder_layer4 = layers.Dense(4, activation='relu')\n",
        "#     z_mean = layers.Dense(latent_dim, name=\"z_mean\")\n",
        "#     z_log_var = layers.Dense(latent_dim, kernel_initializer=initializers.RandomNormal(stddev=0.01), bias_initializer=initializers.Zeros(), name=\"z_log_var\")\n",
        "#     z = Sampling()([z_mean, z_log_var])\n",
        "#     return z\n",
        "# def decoder(latent_dim):\n",
        "#     self.latent_inputs = keras.Input(shape=(latent_dim,))\n",
        "#     # print(latent_inputs)\n",
        "#     self.decoderlayer1 = layers.Dense(4, activation=\"relu\", name='k')(latent_inputs)\n",
        "#     self.decoderlayer2 = layers.Dense(7, activation='relu' , name = 'dec_layer1')(x)\n",
        "#     self.decoderlayer3 = layers.Dense(14, activation='relu', name = 'dec_layer2')(x)\n",
        "#     self.decoderlayer4 = layers.Dense(28, activation='relu', name = 'dec_layer3')(x)   \n",
        "#     self.decoder_outputs = layers.Dense(55)(x)\n",
        "\n",
        "    # self.decoder = keras.Model(self.latent_inputs, self.decoder_outputs, name=\"decoder\") "
      ],
      "metadata": {
        "id": "YNWTXkk0pFAD"
      },
      "execution_count": null,
      "outputs": []
    },
    {
      "cell_type": "code",
      "execution_count": null,
      "metadata": {
        "colab": {
          "base_uri": "https://localhost:8080/"
        },
        "id": "ZP6Sn8K2XKw8",
        "outputId": "057aca59-e4f3-4e83-aa20-553f35801898"
      },
      "outputs": [
        {
          "output_type": "stream",
          "name": "stdout",
          "text": [
            "callllllllllllllllllllllll\n",
            "Tensor(\"sampling_7/strided_slice:0\", shape=(), dtype=int32)\n",
            "Model: \"encoder\"\n",
            "__________________________________________________________________________________________________\n",
            " Layer (type)                   Output Shape         Param #     Connected to                     \n",
            "==================================================================================================\n",
            " input_12 (InputLayer)          [(None, 55)]         0           []                               \n",
            "                                                                                                  \n",
            " dense_32 (Dense)               (None, 28)           1568        ['input_12[0][0]']               \n",
            "                                                                                                  \n",
            " dense_33 (Dense)               (None, 14)           406         ['dense_32[0][0]']               \n",
            "                                                                                                  \n",
            " dense_34 (Dense)               (None, 7)            105         ['dense_33[0][0]']               \n",
            "                                                                                                  \n",
            " dense_35 (Dense)               (None, 4)            32          ['dense_34[0][0]']               \n",
            "                                                                                                  \n",
            " z_mean (Dense)                 (None, 4)            20          ['dense_35[0][0]']               \n",
            "                                                                                                  \n",
            " z_log_var (Dense)              (None, 4)            20          ['dense_35[0][0]']               \n",
            "                                                                                                  \n",
            " sampling_7 (Sampling)          (None, 4)            0           ['z_mean[0][0]',                 \n",
            "                                                                  'z_log_var[0][0]']              \n",
            "                                                                                                  \n",
            "==================================================================================================\n",
            "Total params: 2,151\n",
            "Trainable params: 2,151\n",
            "Non-trainable params: 0\n",
            "__________________________________________________________________________________________________\n"
          ]
        }
      ],
      "source": [
        "latent_dim = 4\n",
        " \n",
        "def encoder(input_shape):\n",
        "  encoder_inputs = keras.Input(shape=(input_shape))\n",
        "  x = layers.Dense(28, activation='relu')(encoder_inputs)\n",
        "  x = layers.Dense(14, activation='relu')(x)\n",
        "  x = layers.Dense(7, activation='relu' )(x)\n",
        "  x = layers.Dense(4, activation='relu')(x)\n",
        "  # x = layers.Conv2D(32, 3, activation=\"relu\", strides=2, padding=\"same\")(encoder_inputs)\n",
        "  # x = layers.Conv2D(64, 3, activation=\"relu\", strides=2, padding=\"same\")(x)\n",
        "  # x = layers.Flatten()(x)\n",
        "  # x = layers.Dense(16, activation=\"relu\")(x)\n",
        "  # flatten = layers.Flatten()(x)\n",
        "  z_mean = layers.Dense(latent_dim, name=\"z_mean\")(x)\n",
        "  z_log_var = layers.Dense(latent_dim, kernel_initializer=initializers.RandomNormal(stddev=0.01), bias_initializer=initializers.Zeros(), name=\"z_log_var\")(x)\n",
        "  z = Sampling()([z_mean, z_log_var])\n",
        "  # print(z)\n",
        "  encoder = keras.Model(encoder_inputs, [z_mean, z_log_var, z], name=\"encoder\")\n",
        "  return encoder\n",
        "encoder = encoder(input_shape)\n",
        "encoder.summary()"
      ]
    },
    {
      "cell_type": "code",
      "execution_count": null,
      "metadata": {
        "colab": {
          "base_uri": "https://localhost:8080/"
        },
        "id": "86YjCLRaj3-f",
        "outputId": "1f4b2103-8fc1-450d-dc1d-fa307e30d7f3"
      },
      "outputs": [
        {
          "output_type": "stream",
          "name": "stdout",
          "text": [
            "2\n"
          ]
        }
      ],
      "source": [
        "print(latent_dim)\n"
      ]
    },
    {
      "cell_type": "code",
      "execution_count": null,
      "metadata": {
        "colab": {
          "base_uri": "https://localhost:8080/"
        },
        "id": "RD9K06oWXKw9",
        "outputId": "c16ca0e8-a7f6-4775-9271-964569c6f3fd"
      },
      "outputs": [
        {
          "output_type": "stream",
          "name": "stdout",
          "text": [
            "KerasTensor(type_spec=TensorSpec(shape=(None, 4), dtype=tf.float32, name='input_13'), name='input_13', description=\"created by layer 'input_13'\")\n",
            "Model: \"decoder\"\n",
            "_________________________________________________________________\n",
            " Layer (type)                Output Shape              Param #   \n",
            "=================================================================\n",
            " input_13 (InputLayer)       [(None, 4)]               0         \n",
            "                                                                 \n",
            " k (Dense)                   (None, 4)                 20        \n",
            "                                                                 \n",
            " dec_layer1 (Dense)          (None, 7)                 35        \n",
            "                                                                 \n",
            " dec_layer2 (Dense)          (None, 14)                112       \n",
            "                                                                 \n",
            " dec_layer3 (Dense)          (None, 28)                420       \n",
            "                                                                 \n",
            " dense_36 (Dense)            (None, 55)                1595      \n",
            "                                                                 \n",
            "=================================================================\n",
            "Total params: 2,182\n",
            "Trainable params: 2,182\n",
            "Non-trainable params: 0\n",
            "_________________________________________________________________\n"
          ]
        }
      ],
      "source": [
        "def decoder(latent_dim):\n",
        "  latent_inputs = keras.Input(shape=(latent_dim,))\n",
        "  print(latent_inputs)\n",
        "  x = layers.Dense(4, activation=\"relu\", name='k')(latent_inputs)\n",
        "  # x = layers.Reshape((7, 7, 64))(x)\n",
        "  x = layers.Dense(7, activation='relu' , name = 'dec_layer1')(x)\n",
        "  x = layers.Dense(14, activation='relu', name = 'dec_layer2')(x)\n",
        "  x = layers.Dense(28, activation='relu', name = 'dec_layer3')(x)\n",
        "  decoder_outputs = layers.Dense(55)(x)\n",
        "\n",
        "  decoder = keras.Model(latent_inputs, decoder_outputs, name=\"decoder\")\n",
        "  return decoder\n",
        "decoder = decoder(latent_dim)\n",
        "decoder.summary()\n",
        "\n"
      ]
    },
    {
      "cell_type": "code",
      "execution_count": null,
      "metadata": {
        "id": "MgTK_x4KXdHb"
      },
      "outputs": [],
      "source": [
        "\n",
        "class VAE(keras.Model):\n",
        "    def __init__(self, encoder, decoder, **kwargs):\n",
        "        super(VAE, self).__init__(**kwargs)\n",
        "        self.encoder = encoder\n",
        "        self.decoder = decoder\n",
        "        self.total_loss_tracker = keras.metrics.Mean(name=\"total_loss\")\n",
        "        self.reconstruction_loss_tracker = keras.metrics.Mean(\n",
        "            name=\"reconstruction_loss\"\n",
        "        )\n",
        "        self.kl_loss_tracker = keras.metrics.Mean(name=\"kl_loss\")\n",
        "        # self.compile(optimizer=keras.optimizers.Adam())\n",
        "    # def call():\n",
        "      # self\n",
        "\n",
        "\n",
        "\n",
        "\n",
        "    @property\n",
        "    def metrics(self):\n",
        "        return [\n",
        "            self.total_loss_tracker,\n",
        "            self.reconstruction_loss_tracker,\n",
        "            self.kl_loss_tracker,\n",
        "        ]\n",
        "\n",
        "    def train_step(self, data):\n",
        "        with tf.GradientTape() as tape:\n",
        "            z_mean, z_log_var, z = self.encoder(data)\n",
        "            # print(data[0], 'this is data')\n",
        "            reconstruction = self.decoder(z)\n",
        "            # print(reconstruction[0], 'this is reconstruction')\n",
        "            reconstruction_loss = tf.reduce_mean(\n",
        "                tf.reduce_sum(\n",
        "                    tf.keras.metrics.mean_squared_error(data, reconstruction), axis=(0)\n",
        "                )\n",
        "            )\n",
        "            print(reconstruction_loss)\n",
        "            kl_loss = -0.5 * (1 + z_log_var - tf.square(z_mean) - tf.exp(z_log_var))\n",
        "            kl_loss = tf.reduce_mean(tf.reduce_sum(kl_loss, axis=1))\n",
        "            total_loss = reconstruction_loss + kl_loss\n",
        "        grads = tape.gradient(total_loss, self.trainable_weights)\n",
        "        self.optimizer.apply_gradients(zip(grads, self.trainable_weights))\n",
        "        self.total_loss_tracker.update_state(total_loss)\n",
        "        self.reconstruction_loss_tracker.update_state(reconstruction_loss)\n",
        "        self.kl_loss_tracker.update_state(kl_loss)\n",
        "        return {\n",
        "            \"loss\": self.total_loss_tracker.result(),\n",
        "            \"reconstruction_loss\": self.reconstruction_loss_tracker.result(),\n",
        "            \"kl_loss\": self.kl_loss_tracker.result(),\n",
        "        }\n"
      ]
    },
    {
      "cell_type": "code",
      "source": [
        "x_train.shape\n",
        "type(x_train)"
      ],
      "metadata": {
        "colab": {
          "base_uri": "https://localhost:8080/"
        },
        "id": "6PHWhFXDzPFq",
        "outputId": "5c362b6b-2efd-493f-f554-5c89ba16e4e8"
      },
      "execution_count": null,
      "outputs": [
        {
          "output_type": "execute_result",
          "data": {
            "text/plain": [
              "pandas.core.frame.DataFrame"
            ]
          },
          "metadata": {},
          "execution_count": 81
        }
      ]
    },
    {
      "cell_type": "code",
      "execution_count": null,
      "metadata": {
        "id": "5oYoGmSVbTml"
      },
      "outputs": [],
      "source": [
        "vae.train_step(x_tensor)"
      ]
    },
    {
      "cell_type": "code",
      "execution_count": null,
      "metadata": {
        "id": "WDADJVVpb9ad"
      },
      "outputs": [],
      "source": []
    },
    {
      "cell_type": "code",
      "execution_count": null,
      "metadata": {
        "id": "5Qsvlcbeb9dM"
      },
      "outputs": [],
      "source": []
    },
    {
      "cell_type": "code",
      "execution_count": null,
      "metadata": {
        "id": "JuGd-DDCb9gr"
      },
      "outputs": [],
      "source": []
    },
    {
      "cell_type": "code",
      "execution_count": null,
      "metadata": {
        "id": "ScrJeLgGKv3j"
      },
      "outputs": [],
      "source": []
    },
    {
      "cell_type": "code",
      "execution_count": null,
      "metadata": {
        "colab": {
          "base_uri": "https://localhost:8080/"
        },
        "id": "ZExGex-WcFME",
        "outputId": "5e8f82f9-c1fa-4cb0-8df2-450b91cf9ebc"
      },
      "outputs": [
        {
          "data": {
            "text/plain": [
              "(800000, 56)"
            ]
          },
          "execution_count": 131,
          "metadata": {},
          "output_type": "execute_result"
        }
      ],
      "source": [
        "df.shape"
      ]
    },
    {
      "cell_type": "code",
      "execution_count": null,
      "metadata": {
        "colab": {
          "base_uri": "https://localhost:8080/"
        },
        "id": "SHushD9ANzPj",
        "outputId": "93165790-2964-4da3-82b5-a6879bdb4a57"
      },
      "outputs": [
        {
          "output_type": "stream",
          "name": "stdout",
          "text": [
            "(600000, 55) (200000, 55) 600000 200000\n"
          ]
        }
      ],
      "source": [
        "from sklearn.model_selection import train_test_split\n",
        "x_train, x_test, y_train, y_test = train_test_split(X, target, test_size = 0.25, random_state = 42)\n",
        "print(x_train.shape,x_test.shape,len(y_train),len(y_test))"
      ]
    },
    {
      "cell_type": "code",
      "source": [
        "# y_tensor = tf.convert_to_tensor(y_train, dtype=tf.float32)\n",
        "x_tensor = tf.convert_to_tensor(x_train, dtype=tf.float32)"
      ],
      "metadata": {
        "id": "2MJrUrHl52_K"
      },
      "execution_count": null,
      "outputs": []
    },
    {
      "cell_type": "code",
      "execution_count": null,
      "metadata": {
        "id": "Ko9oRRTm6AKd"
      },
      "outputs": [],
      "source": [
        "# numeric_features = x_train\n",
        "# # numeric_features.head()\n",
        "# x_train = tf.convert_to_tensor(numeric_features)\n",
        "# # x_train.flatten()"
      ]
    },
    {
      "cell_type": "code",
      "execution_count": null,
      "metadata": {
        "colab": {
          "base_uri": "https://localhost:8080/"
        },
        "id": "OFa1g_7afnaT",
        "outputId": "0085b24a-9804-4c26-eb91-e48dc7ac67c8"
      },
      "outputs": [
        {
          "output_type": "stream",
          "name": "stdout",
          "text": [
            "(60000, 28, 28) (10000, 28, 28)\n"
          ]
        }
      ],
      "source": [
        "# print(x_train.shape, x_test.shape) #(60000, 28, 28) (10000, 28, 28)"
      ]
    },
    {
      "cell_type": "code",
      "execution_count": null,
      "metadata": {
        "colab": {
          "base_uri": "https://localhost:8080/"
        },
        "id": "pyENBdgXoUpQ",
        "outputId": "e48c2129-e848-4d98-8f6e-5a4193608aea"
      },
      "outputs": [
        {
          "data": {
            "text/plain": [
              "(600000, 55)"
            ]
          },
          "execution_count": 110,
          "metadata": {},
          "output_type": "execute_result"
        }
      ],
      "source": [
        "xy_test = x_train\n",
        "x_train.shape"
      ]
    },
    {
      "cell_type": "code",
      "execution_count": null,
      "metadata": {
        "id": "1z1RLPvjyqOJ"
      },
      "outputs": [],
      "source": []
    },
    {
      "cell_type": "code",
      "source": [
        "# type(x_tensor)\n",
        "# newarr = x_tensor.reshape(-1)\n",
        "# newarr"
      ],
      "metadata": {
        "colab": {
          "base_uri": "https://localhost:8080/"
        },
        "id": "1pFiTOohhfNl",
        "outputId": "8c0812a9-af9f-47fa-80af-99389704516f"
      },
      "execution_count": null,
      "outputs": [
        {
          "output_type": "execute_result",
          "data": {
            "text/plain": [
              "array([183.,   0.,   0., ...,   0.,   0.,   0.], dtype=float32)"
            ]
          },
          "metadata": {},
          "execution_count": 47
        }
      ]
    },
    {
      "cell_type": "code",
      "execution_count": null,
      "metadata": {
        "colab": {
          "base_uri": "https://localhost:8080/"
        },
        "id": "ltbxsVvMyqYO",
        "outputId": "0dfbe878-39cb-4659-a0a1-aea227f6bf9f"
      },
      "outputs": [
        {
          "data": {
            "text/plain": [
              "55"
            ]
          },
          "execution_count": 72,
          "metadata": {},
          "output_type": "execute_result"
        }
      ],
      "source": [
        "# x_tensor.shape, y_tensor.shape\n",
        "# x_tensor.shape[1]"
      ]
    },
    {
      "cell_type": "code",
      "execution_count": null,
      "metadata": {
        "colab": {
          "base_uri": "https://localhost:8080/"
        },
        "id": "4eieTfuOyqbU",
        "outputId": "4c1016f8-c9bf-4efd-bf03-7b03e33e356f"
      },
      "outputs": [
        {
          "data": {
            "text/plain": [
              "((600000, 55), (600000,))"
            ]
          },
          "execution_count": 31,
          "metadata": {},
          "output_type": "execute_result"
        }
      ],
      "source": [
        "# (x_train.shape, y_train.shape)"
      ]
    },
    {
      "cell_type": "code",
      "execution_count": null,
      "metadata": {
        "id": "BIJpqteuVvRQ",
        "colab": {
          "base_uri": "https://localhost:8080/"
        },
        "outputId": "844a726e-090e-483d-a064-8e1ae159c69c"
      },
      "outputs": [
        {
          "output_type": "execute_result",
          "data": {
            "text/plain": [
              "490378     0\n",
              "586442     0\n",
              "765364     0\n",
              "140404     1\n",
              "267046     0\n",
              "          ..\n",
              "696931     0\n",
              "2302364    2\n",
              "483751     0\n",
              "2263915    2\n",
              "269421     0\n",
              "Name:  Label, Length: 200000, dtype: int64"
            ]
          },
          "metadata": {},
          "execution_count": 54
        }
      ],
      "source": [
        "# x_train\n",
        "# y_test\n",
        "# # mnist_digits"
      ]
    },
    {
      "cell_type": "code",
      "source": [
        "# Change the labels from categorical to one-hot encoding\n",
        "from tensorflow.keras.utils import to_categorical # Change the labels from categorical to one-hot encoding\n",
        "train_Y_one_hot = to_categorical(y_train, 4) \n",
        "test_Y_one_hot = to_categorical(y_test, 4)\n",
        "\n",
        "# Display the change for category label using one-hot encoding\n",
        "# print('Original label:', y_train[0])\n",
        "print('After conversion to one-hot:', train_Y_one_hot[0])"
      ],
      "metadata": {
        "colab": {
          "base_uri": "https://localhost:8080/"
        },
        "id": "BbeX1TA1jeLs",
        "outputId": "ba64e2d1-598e-4e0f-8a85-8ea084b18b57"
      },
      "execution_count": null,
      "outputs": [
        {
          "output_type": "stream",
          "name": "stdout",
          "text": [
            "After conversion to one-hot: [1. 0. 0. 0.]\n"
          ]
        }
      ]
    },
    {
      "cell_type": "code",
      "source": [
        "x_train.shape, x_test.shape"
      ],
      "metadata": {
        "colab": {
          "base_uri": "https://localhost:8080/"
        },
        "id": "6P8xisZgiqfq",
        "outputId": "a63b5bea-4411-47a6-85d8-96a040ae1cd5"
      },
      "execution_count": null,
      "outputs": [
        {
          "output_type": "execute_result",
          "data": {
            "text/plain": [
              "((600000, 55), (200000, 55))"
            ]
          },
          "metadata": {},
          "execution_count": 59
        }
      ]
    },
    {
      "cell_type": "code",
      "source": [
        "mnist_digits = np.concatenate([x_train, y_train], axis=0)\n",
        "mnist_digits = np.expand_dims(mnist_digits, -1).astype(\"float32\") / 255"
      ],
      "metadata": {
        "id": "q-D-QCx_ieNv"
      },
      "execution_count": null,
      "outputs": []
    },
    {
      "cell_type": "code",
      "source": [
        "x_tensor = x_tensor / 255"
      ],
      "metadata": {
        "id": "U0gpi_rg2rF6"
      },
      "execution_count": null,
      "outputs": []
    },
    {
      "cell_type": "code",
      "execution_count": null,
      "metadata": {
        "id": "SYeA3PTjXdEg"
      },
      "outputs": [],
      "source": [
        "# (x_train, _), (x_test, _) = keras.datasets.mnist.load_data()\n",
        "# mnist_digits = np.concatenate([x_tensor,y_tensor], axis=0)\n",
        "# mnist_digits = np.expand_dims(mnist_digits, -1).astype(\"float32\") / 255\n",
        "\n",
        "vae = VAE(encoder, decoder)\n",
        "vae.compile(optimizer=keras.optimizers.Adam())\n",
        "vae.fit(x_tensor, epochs=100, batch_size=32)\n",
        "# vae.fit(mnist_digits, epochs=30, batch_size=128)"
      ]
    },
    {
      "cell_type": "code",
      "execution_count": null,
      "metadata": {
        "id": "LaS8-V4yYx2H"
      },
      "outputs": [],
      "source": [
        "vae.summary()"
      ]
    },
    {
      "cell_type": "code",
      "execution_count": null,
      "metadata": {
        "id": "hIV2C8YmYx8L"
      },
      "outputs": [],
      "source": [
        "x_tensor = np.expand_dims(x_tensor, axis=0)"
      ]
    },
    {
      "cell_type": "code",
      "source": [
        "x_tensor.shape\n",
        "x_tensor"
      ],
      "metadata": {
        "colab": {
          "base_uri": "https://localhost:8080/"
        },
        "id": "-6RENh35Qd6R",
        "outputId": "ebb67afd-ba45-4bd4-9e2d-9d2a821acb40"
      },
      "execution_count": null,
      "outputs": [
        {
          "output_type": "execute_result",
          "data": {
            "text/plain": [
              "<tf.Tensor: shape=(600000, 55), dtype=float32, numpy=\n",
              "array([[183.,   0.,   0., ...,   0.,   0.,   0.],\n",
              "       [  1.,  22.,   0., ...,   0.,   0.,   0.],\n",
              "       [  0.,   0.,   0., ...,   0.,   0.,   0.],\n",
              "       ...,\n",
              "       [  0.,   0.,   0., ...,   0.,   0.,   0.],\n",
              "       [  0., 247.,   0., ..., 197., 212.,  34.],\n",
              "       [  0.,   0.,   0., ...,   0.,   0.,   0.]], dtype=float32)>"
            ]
          },
          "metadata": {},
          "execution_count": 34
        }
      ]
    },
    {
      "cell_type": "code",
      "source": [
        "print(x_tensor[0].shape)"
      ],
      "metadata": {
        "colab": {
          "base_uri": "https://localhost:8080/"
        },
        "id": "U_CGLcBGQ0su",
        "outputId": "cba2a801-048f-434d-9c8c-70000d57139a"
      },
      "execution_count": null,
      "outputs": [
        {
          "output_type": "stream",
          "name": "stdout",
          "text": [
            "(55,)\n"
          ]
        }
      ]
    },
    {
      "cell_type": "code",
      "source": [
        "# vae.build(x_tensor[0].shape)\n",
        "vae.build(input_shape=x_tensor[0].shape) # Note the .build call\n",
        "# vae.summary()\n"
      ],
      "metadata": {
        "id": "bXAEqjWoQ1EL"
      },
      "execution_count": null,
      "outputs": []
    },
    {
      "cell_type": "code",
      "source": [
        "filename = '/content/drive/MyDrive/7th- Semester/FashionMNIST/fullVAEMNAD.h5'\n",
        "vae.save_weights(filename)"
      ],
      "metadata": {
        "id": "4YpbcnITQ1G3"
      },
      "execution_count": null,
      "outputs": []
    },
    {
      "cell_type": "code",
      "execution_count": null,
      "metadata": {
        "id": "n9faOGstXc85"
      },
      "outputs": [],
      "source": [
        "vae.load_weights(filename)"
      ]
    },
    {
      "cell_type": "code",
      "execution_count": null,
      "metadata": {
        "id": "24amQil2Xc0m"
      },
      "outputs": [],
      "source": []
    },
    {
      "cell_type": "code",
      "execution_count": null,
      "metadata": {
        "id": "9w13oHTbXcxW"
      },
      "outputs": [],
      "source": []
    },
    {
      "cell_type": "code",
      "execution_count": null,
      "metadata": {
        "id": "OhSOarD-XcuC"
      },
      "outputs": [],
      "source": []
    },
    {
      "cell_type": "code",
      "execution_count": null,
      "metadata": {
        "id": "la8feNllXcqm"
      },
      "outputs": [],
      "source": []
    },
    {
      "cell_type": "code",
      "execution_count": null,
      "metadata": {
        "id": "ki23tQtaXcnJ"
      },
      "outputs": [],
      "source": []
    },
    {
      "cell_type": "code",
      "execution_count": null,
      "metadata": {
        "id": "vyQNQn92Xcki"
      },
      "outputs": [],
      "source": []
    },
    {
      "cell_type": "code",
      "execution_count": null,
      "metadata": {
        "id": "mSN7eUSnXchP"
      },
      "outputs": [],
      "source": []
    },
    {
      "cell_type": "code",
      "execution_count": null,
      "metadata": {
        "id": "6EG0SUqPXccy"
      },
      "outputs": [],
      "source": []
    },
    {
      "cell_type": "code",
      "execution_count": null,
      "metadata": {
        "id": "BwQEQLOaXcaW"
      },
      "outputs": [],
      "source": []
    },
    {
      "cell_type": "code",
      "execution_count": null,
      "metadata": {
        "id": "pR_bzhg4XcWy"
      },
      "outputs": [],
      "source": []
    },
    {
      "cell_type": "code",
      "execution_count": null,
      "metadata": {
        "id": "EF030aroXcT5"
      },
      "outputs": [],
      "source": []
    },
    {
      "cell_type": "code",
      "execution_count": null,
      "metadata": {
        "id": "mejcCYdgXcRJ"
      },
      "outputs": [],
      "source": []
    },
    {
      "cell_type": "code",
      "execution_count": null,
      "metadata": {
        "id": "crv-r8iTXcN7"
      },
      "outputs": [],
      "source": []
    },
    {
      "cell_type": "code",
      "execution_count": null,
      "metadata": {
        "id": "RUIyEh_eXcK0"
      },
      "outputs": [],
      "source": []
    },
    {
      "cell_type": "code",
      "execution_count": null,
      "metadata": {
        "id": "UUQSVAoRXcH8"
      },
      "outputs": [],
      "source": []
    },
    {
      "cell_type": "code",
      "execution_count": null,
      "metadata": {
        "id": "rpHYCLIJXcFT"
      },
      "outputs": [],
      "source": []
    },
    {
      "cell_type": "code",
      "execution_count": null,
      "metadata": {
        "id": "YPsXyMgqXcCc"
      },
      "outputs": [],
      "source": []
    },
    {
      "cell_type": "code",
      "execution_count": null,
      "metadata": {
        "id": "3gAhsbhgXb_i"
      },
      "outputs": [],
      "source": []
    },
    {
      "cell_type": "code",
      "execution_count": null,
      "metadata": {
        "id": "oyjAKC3_Xb8J"
      },
      "outputs": [],
      "source": []
    },
    {
      "cell_type": "code",
      "execution_count": null,
      "metadata": {
        "id": "-5ZtcLkCXb2N"
      },
      "outputs": [],
      "source": []
    },
    {
      "cell_type": "code",
      "execution_count": null,
      "metadata": {
        "id": "vIIaf9uLXbyD"
      },
      "outputs": [],
      "source": []
    },
    {
      "cell_type": "code",
      "execution_count": null,
      "metadata": {
        "cellView": "form",
        "id": "zijx3su5T-q_"
      },
      "outputs": [],
      "source": [
        "#@title\n",
        "(x_train, y_train), (x_test, y_test) = tf.keras.datasets.fashion_mnist.load_data()\n",
        "x_train = x_train.reshape(x_train.shape[0], 28, 28, 1).astype('float32')\n",
        "x_test = x_test.astype('float32')\n",
        "x_train = x_train / 255.\n",
        "x_test = x_test / 255.\n",
        "# Batch and shuffle the data\n",
        "train_dataset = tf.data.Dataset.from_tensor_slices(x_train).\\\n",
        "shuffle(60000).batch(128)"
      ]
    },
    {
      "cell_type": "code",
      "execution_count": null,
      "metadata": {
        "cellView": "form",
        "id": "DHm9zvpFWZO9"
      },
      "outputs": [],
      "source": [
        "#@title\n",
        "MSE = numpy.mean((X - X_hat)**2)\n",
        "kl_loss =  -0.5 * numpy.sum(1 + numpy.log(Z_sigma ** 2) - numpy.square(Z_mean) - numpy.exp(np.log(Z_sigma ** 2), axis = 1"
      ]
    },
    {
      "cell_type": "code",
      "execution_count": null,
      "metadata": {
        "cellView": "form",
        "id": "aBMOOLYyRor9"
      },
      "outputs": [],
      "source": [
        "#@title\n",
        "def encoder(input_encoder):\n",
        "  \n",
        "    inputs = keras.Input(shape=input_encoder, name='input_layer')\n",
        "\n",
        "    # Block-1\n",
        "    x = layers.Conv2D(32, kernel_size=3, strides= 1, padding='same', name='conv_1')(inputs)\n",
        "    x = layers.BatchNormalization(name='bn_1')(x)\n",
        "    x = layers.LeakyReLU(name='lrelu_1')(x)\n",
        "    \n",
        "    # Block-2\n",
        "    x = layers.Conv2D(64, kernel_size=3, strides= 2, padding='same', name='conv_2')(x)\n",
        "    x = layers.BatchNormalization(name='bn_2')(x)\n",
        "    x = layers.LeakyReLU(name='lrelu_2')(x)\n",
        "    \n",
        "    # Block-3\n",
        "    x = layers.Conv2D(64, 3, 2, padding='same', name='conv_3')(x)\n",
        "    x = layers.BatchNormalization(name='bn_3')(x)\n",
        "    x = layers.LeakyReLU(name='lrelu_3')(x)\n",
        "  \n",
        "    # Block-4\n",
        "    x = layers.Conv2D(64, 3, 1, padding='same', name='conv_4')(x)\n",
        "    x = layers.BatchNormalization(name='bn_4')(x)\n",
        "    x = layers.LeakyReLU(name='lrelu_4')(x)\n",
        "   \n",
        "    # Final Block\n",
        "    flatten = layers.Flatten()(x)\n",
        "    mean = layers.Dense(2, name='mean')(flatten)\n",
        "    log_var = layers.Dense(2, name='log_var')(flatten)\n",
        "    model = tf.keras.Model(inputs, (mean, log_var), name=\"Encoder\")\n",
        "    return model"
      ]
    },
    {
      "cell_type": "code",
      "execution_count": null,
      "metadata": {
        "id": "eClctjKyRopD"
      },
      "outputs": [],
      "source": []
    },
    {
      "cell_type": "code",
      "execution_count": null,
      "metadata": {
        "id": "FIFP9CZRQeK7"
      },
      "outputs": [],
      "source": [
        "#@title\n",
        "def sampling(input_1,input_2):\n",
        "    mean = keras.Input(shape=input_1, name='input_layer1')\n",
        "    log_var = keras.Input(shape=input_2, name='input_layer2')\n",
        "    out = layers.Lambda(sampling_reparameterization_model, name='encoder_output')([mean, log_var])\n",
        "    enc_2 = tf.keras.Model([mean,log_var], out,  name=\"Encoder_2\")\n",
        "    return enc_2\n"
      ]
    },
    {
      "cell_type": "code",
      "execution_count": null,
      "metadata": {
        "cellView": "form",
        "id": "4EWIsY-pRlHq"
      },
      "outputs": [],
      "source": [
        "#@title\n",
        "def sampling_reparameterization(distribution_params):\n",
        "    mean, log_var = distribution_params\n",
        "    epsilon = K.random_normal(shape=K.shape(mean), mean=0., stddev=1.)\n",
        "    z = mean + K.exp(log_var / 2) * epsilon\n",
        "    return z"
      ]
    },
    {
      "cell_type": "code",
      "execution_count": null,
      "metadata": {
        "cellView": "form",
        "id": "mp_yNfk3RlKb"
      },
      "outputs": [],
      "source": [
        "#@title\n",
        "def decoder(input_decoder):\n",
        "    \n",
        "    inputs = keras.Input(shape=input_decoder, name='input_layer')\n",
        "    x = layers.Dense(3136, name='dense_1')(inputs)\n",
        "    x = layers.Reshape((7, 7, 64), name='Reshape_Layer')(x)\n",
        "   \n",
        "    # Block-1\n",
        "    x = layers.Conv2DTranspose(64, 3, strides= 1, padding='same',name='conv_transpose_1')(x)\n",
        "    x = layers.BatchNormalization(name='bn_1')(x)\n",
        "    x = layers.LeakyReLU(name='lrelu_1')(x)\n",
        "  \n",
        "    # Block-2\n",
        "    x = layers.Conv2DTranspose(64, 3, strides= 2, padding='same', name='conv_transpose_2')(x)\n",
        "    x = layers.BatchNormalization(name='bn_2')(x)\n",
        "    x = layers.LeakyReLU(name='lrelu_2')(x)\n",
        "    \n",
        "    # Block-3\n",
        "    x = layers.Conv2DTranspose(32, 3, 2, padding='same', name='conv_transpose_3')(x)\n",
        "    x = layers.BatchNormalization(name='bn_3')(x)\n",
        "    x = layers.LeakyReLU(name='lrelu_3')(x)\n",
        "    \n",
        "    # Block-4\n",
        "    outputs = layers.Conv2DTranspose(1, 3, 1,padding='same', activation='sigmoid', name='conv_transpose_4')(x)\n",
        "    model = tf.keras.Model(inputs, outputs, name=\"Decoder\")\n",
        "    return model\n"
      ]
    },
    {
      "cell_type": "code",
      "execution_count": null,
      "metadata": {
        "id": "B447ES6GRlNC"
      },
      "outputs": [],
      "source": []
    },
    {
      "cell_type": "code",
      "execution_count": null,
      "metadata": {
        "cellView": "form",
        "id": "mBLf9dY0RlQP"
      },
      "outputs": [],
      "source": [
        "#@title\n",
        "optimizer = tf.keras.optimizers.Adam(learning_rate = 0.0005)\n",
        "\n",
        "def mse_loss(y_true, y_pred):\n",
        "    r_loss = K.mean(K.square(y_true - y_pred), axis = [1,2,3])\n",
        "    return 1000 * r_loss\n",
        "\n",
        "def kl_loss(mean, log_var):\n",
        "    kl_loss =  -0.5 * K.sum(1 + log_var - K.square(mean) - K.exp(log_var), axis = 1)\n",
        "    return kl_loss\n",
        "\n",
        "def vae_loss(y_true, y_pred, mean, var):\n",
        "    r_loss = mse_loss(y_true, y_pred)\n",
        "    kl_loss = kl_loss(mean, log_var)\n",
        "    return  r_loss + kl_loss"
      ]
    },
    {
      "cell_type": "code",
      "execution_count": null,
      "metadata": {
        "cellView": "form",
        "id": "PrVNM1usRlSx"
      },
      "outputs": [],
      "source": [
        "#@title\n",
        "# Notice the use of `tf.function`\n",
        "# This annotation causes the function to be \"compiled\".\n",
        "@tf.function\n",
        "def train_step(images):\n",
        "\n",
        "    with tf.GradientTape() as enc, tf.GradientTape() as dec:\n",
        "      \n",
        "        mean, log_var = enc(images, training=True)\n",
        "        latent = sampling([mean, log_var])\n",
        "        generated_images = dec(latent, training=True)\n",
        "        loss = vae_loss(images, generated_images, mean, log_var)\n",
        "\n",
        "        \n",
        "    gradients_of_enc = encoder.gradient(loss, enc.trainable_variables)\n",
        "    gradients_of_dec = decoder.gradient(loss, dec.trainable_variables)\n",
        "    \n",
        "    \n",
        "    optimizer.apply_gradients(zip(gradients_of_enc, enc.trainable_variables))\n",
        "    optimizer.apply_gradients(zip(gradients_of_dec, dec.trainable_variables))\n",
        "    return loss"
      ]
    },
    {
      "cell_type": "code",
      "execution_count": null,
      "metadata": {
        "cellView": "form",
        "id": "iRvvHO3URlVg"
      },
      "outputs": [],
      "source": [
        "#@title\n",
        "def train(dataset, epochs):\n",
        "  for epoch in range(epochs):\n",
        "    start = time.time()\n",
        "    for image_batch in dataset:\n",
        "      train_step(image_batch)\n",
        "    print ('Time for epoch {} is {} sec'.format(epoch + 1, time.time()-start))\n",
        "\n",
        "\n",
        "train(train_dataset, 2)"
      ]
    },
    {
      "cell_type": "code",
      "execution_count": null,
      "metadata": {
        "id": "wsHuhzA7RlYY"
      },
      "outputs": [],
      "source": []
    },
    {
      "cell_type": "code",
      "execution_count": null,
      "metadata": {
        "id": "O4cYyAikRlbu"
      },
      "outputs": [],
      "source": []
    },
    {
      "cell_type": "code",
      "execution_count": null,
      "metadata": {
        "id": "AyJW0g3BRlej"
      },
      "outputs": [],
      "source": []
    },
    {
      "cell_type": "code",
      "execution_count": null,
      "metadata": {
        "id": "B8xST8AoRlhU"
      },
      "outputs": [],
      "source": []
    },
    {
      "cell_type": "code",
      "execution_count": null,
      "metadata": {
        "id": "o_e06pv2RlkM"
      },
      "outputs": [],
      "source": []
    }
  ],
  "metadata": {
    "colab": {
      "collapsed_sections": [],
      "provenance": []
    },
    "kernelspec": {
      "display_name": "Python 3",
      "name": "python3"
    },
    "language_info": {
      "name": "python"
    }
  },
  "nbformat": 4,
  "nbformat_minor": 0
}